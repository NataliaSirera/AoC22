{
 "cells": [
  {
   "cell_type": "markdown",
   "id": "7371e7db-a72c-466c-a6ac-5609f77f6f44",
   "metadata": {},
   "source": [
    "# --- Day 3: Rucksack Reorganization ---"
   ]
  },
  {
   "cell_type": "code",
   "execution_count": 1,
   "id": "0a4cb834-03cd-4323-89d4-c38bd705f33e",
   "metadata": {},
   "outputs": [],
   "source": [
    "from collections import namedtuple"
   ]
  },
  {
   "cell_type": "code",
   "execution_count": 2,
   "id": "3a72c59f-f192-45e1-8d46-c3176498c2d4",
   "metadata": {},
   "outputs": [],
   "source": [
    "def find_compartments(rucksacks):\n",
    "    \"\"\"\n",
    "    Each rucksack has two large compartments. \n",
    "    A given rucksack always has the same number of items in each of its two compartments, \n",
    "    so the first half of the characters represent items in the first compartment, \n",
    "    while the second half of the characters represent items in the second compartment.\n",
    "    \"\"\"\n",
    "    compartments = []\n",
    "    for rucksack in rucksacks:\n",
    "        halflength = len(rucksack) // 2\n",
    "        compartments.append([rucksack[:halflength], rucksack[halflength:]])\n",
    "    return compartments"
   ]
  },
  {
   "cell_type": "code",
   "execution_count": 3,
   "id": "413fbb36-d7dd-4dbc-ad3f-279e45228388",
   "metadata": {},
   "outputs": [],
   "source": [
    "def find_common_items(rucksacks):\n",
    "    \"\"\"\n",
    "    All items of a given type are meant to go into exactly one of the two compartments. \n",
    "    The Elf that did the packing failed to follow this rule for exactly one item type per rucksack.\n",
    "    \"\"\"\n",
    "    common_items = []\n",
    "    for comp1, comp2 in rucksacks:\n",
    "        common_item = set(comp1) & set(comp2)\n",
    "        common_items.append(common_item.pop())\n",
    "    return common_items"
   ]
  },
  {
   "cell_type": "code",
   "execution_count": 4,
   "id": "d6c01c5c-a014-4e2d-b1a1-cb76cb9dcc9e",
   "metadata": {},
   "outputs": [],
   "source": [
    "def prioritize_items(items):\n",
    "    \"\"\"\n",
    "    To help prioritize item rearrangement, every item type can be converted to a priority:\n",
    "    - Lowercase item types a through z have priorities 1 through 26.\n",
    "    - Uppercase item types A through Z have priorities 27 through 52.\n",
    "    \"\"\"\n",
    "    priorities = []\n",
    "    for item in items:\n",
    "        difference = 96 if item.islower() else 38\n",
    "        priority = ord(item) - difference\n",
    "        priorities.append(priority)\n",
    "    return priorities"
   ]
  },
  {
   "cell_type": "code",
   "execution_count": 5,
   "id": "882e7435-685e-4883-a1e7-a9da8667faad",
   "metadata": {},
   "outputs": [],
   "source": [
    "def get_sum_priorities(filename):\n",
    "    \"\"\"\n",
    "    Find the sum of the priorities of the item that appears in both compartments of each rucksack. \n",
    "    \"\"\"\n",
    "    with open(filename) as fh:\n",
    "        rucksacks = fh.read().rstrip('\\n').split('\\n')\n",
    "        \n",
    "    compartments = find_compartments(rucksacks)\n",
    "    common_items = find_common_items(compartments)\n",
    "    priorities = prioritize_items(common_items)\n",
    "    sum_priorities = sum(priorities)\n",
    "    \n",
    "    Result = namedtuple('Result', ['compartments', 'common_items', 'priorities', 'sum_priorities'])\n",
    "    result = Result(compartments, common_items, priorities, sum_priorities)\n",
    "    return result"
   ]
  },
  {
   "cell_type": "code",
   "execution_count": 6,
   "id": "d2937154-0c05-493d-a684-0d4847bdf16c",
   "metadata": {},
   "outputs": [],
   "source": [
    "test = get_sum_priorities('test.txt')"
   ]
  },
  {
   "cell_type": "code",
   "execution_count": 7,
   "id": "97f1fdeb-6252-4af5-99ef-ee7559cf47b9",
   "metadata": {},
   "outputs": [],
   "source": [
    "assert test.compartments[0] == ['vJrwpWtwJgWr', 'hcsFMMfFFhFp']\n",
    "assert test.compartments[1] == ['jqHRNqRjqzjGDLGL', 'rsFMfFZSrLrFZsSL']\n",
    "assert test.compartments[2] == ['PmmdzqPrV', 'vPwwTWBwg'] \n",
    "assert test.common_items == ['p', 'L', 'P', 'v', 't', 's']\n",
    "assert test.priorities == [16, 38, 42, 22, 20, 19]\n",
    "assert test.sum_priorities == 157"
   ]
  },
  {
   "cell_type": "code",
   "execution_count": 8,
   "id": "ab37360e-8846-4b8f-a0ef-d0a8c46b7943",
   "metadata": {},
   "outputs": [],
   "source": [
    "result = get_sum_priorities('input.txt')"
   ]
  },
  {
   "cell_type": "code",
   "execution_count": 9,
   "id": "d440f4cf-0dce-4fa8-ab96-0911a39a41db",
   "metadata": {},
   "outputs": [
    {
     "data": {
      "text/plain": [
       "8243"
      ]
     },
     "execution_count": 9,
     "metadata": {},
     "output_type": "execute_result"
    }
   ],
   "source": [
    "result.sum_priorities"
   ]
  },
  {
   "cell_type": "markdown",
   "id": "53322d0f-caac-4db9-8fcd-3cb5b34113d5",
   "metadata": {},
   "source": [
    "# --- Part Two ---"
   ]
  },
  {
   "cell_type": "code",
   "execution_count": 10,
   "id": "a3d213dd-84ac-49d8-95cb-a2f563380050",
   "metadata": {},
   "outputs": [],
   "source": [
    "def find_groups(rucksacks):\n",
    "    \"\"\"\n",
    "    Every set of three lines in your list corresponds to a single group\n",
    "    \"\"\"\n",
    "    groups = []\n",
    "    for i in range(0, len(rucksacks), 3):\n",
    "        groups.append(rucksacks[i:i+3])\n",
    "    return groups"
   ]
  },
  {
   "cell_type": "code",
   "execution_count": 11,
   "id": "69b5116e-ad4a-4571-ae44-23704a7ecf72",
   "metadata": {},
   "outputs": [],
   "source": [
    "def find_badge_groups(groups):\n",
    "    badges = [set.intersection(*map(set, group)).pop() for group in groups]\n",
    "    return badges"
   ]
  },
  {
   "cell_type": "code",
   "execution_count": 12,
   "id": "06532522-60c0-4606-bbba-180fb92d1a65",
   "metadata": {},
   "outputs": [],
   "source": [
    "def get_sum_priorities_groups(filename):\n",
    "    \"\"\"\n",
    "    Find the sum of the priorities of the badges\n",
    "    \"\"\"\n",
    "    with open(filename) as fh:\n",
    "        rucksacks = fh.read().rstrip('\\n').split('\\n')\n",
    "    \n",
    "    groups = find_groups(rucksacks)\n",
    "    badges = find_badge_groups(groups)\n",
    "    priorities = prioritize_items(badges)\n",
    "    sum_priorities = sum(priorities)\n",
    "    \n",
    "    Result = namedtuple('Result', ['groups', 'badges', 'priorities', 'sum_priorities'])\n",
    "    result = Result(groups, badges, priorities, sum_priorities)\n",
    "    return result"
   ]
  },
  {
   "cell_type": "code",
   "execution_count": 13,
   "id": "f48f8b3b-e2c5-494a-87e9-1fc5b5d5c14e",
   "metadata": {},
   "outputs": [],
   "source": [
    "test = get_sum_priorities_groups('test.txt')"
   ]
  },
  {
   "cell_type": "code",
   "execution_count": 14,
   "id": "96e7149c-c79d-4b95-9476-f12b936b1a59",
   "metadata": {},
   "outputs": [],
   "source": [
    "assert test.groups == [['vJrwpWtwJgWrhcsFMMfFFhFp', 'jqHRNqRjqzjGDLGLrsFMfFZSrLrFZsSL',\n",
    "                        'PmmdzqPrVvPwwTWBwg'], \n",
    "                       ['wMqvLMZHhHMvwLHjbvcjnnSBnvTQFn', 'ttgJtRGJQctTZtZT',\n",
    "                        'CrZsJsPPZsGzwwsLwLmpwMDw']]"
   ]
  },
  {
   "cell_type": "code",
   "execution_count": 15,
   "id": "75e92f72-a437-47c8-92df-76e7ac27811a",
   "metadata": {},
   "outputs": [],
   "source": [
    "assert test.badges == ['r', 'Z']"
   ]
  },
  {
   "cell_type": "code",
   "execution_count": 16,
   "id": "dcda7621-ea1d-422c-9969-ac2245a0b925",
   "metadata": {},
   "outputs": [],
   "source": [
    "assert test.priorities == [18, 52]"
   ]
  },
  {
   "cell_type": "code",
   "execution_count": 17,
   "id": "35a81ca6-49f3-4a22-9cb9-610356ecc3f5",
   "metadata": {},
   "outputs": [],
   "source": [
    "assert test.sum_priorities == 70"
   ]
  },
  {
   "cell_type": "code",
   "execution_count": 18,
   "id": "1a741fbb-5eea-4666-8d83-5ac8909bd981",
   "metadata": {},
   "outputs": [],
   "source": [
    "result = get_sum_priorities_groups('input.txt')"
   ]
  },
  {
   "cell_type": "code",
   "execution_count": 19,
   "id": "13d5f9ed-329e-45e6-923c-48d2da8b6860",
   "metadata": {},
   "outputs": [
    {
     "data": {
      "text/plain": [
       "2631"
      ]
     },
     "execution_count": 19,
     "metadata": {},
     "output_type": "execute_result"
    }
   ],
   "source": [
    "result.sum_priorities"
   ]
  },
  {
   "cell_type": "code",
   "execution_count": null,
   "id": "be78d7ad-3b55-4ce1-9ea9-6a106014e039",
   "metadata": {},
   "outputs": [],
   "source": []
  }
 ],
 "metadata": {
  "kernelspec": {
   "display_name": "Python 3 (ipykernel)",
   "language": "python",
   "name": "python3"
  },
  "language_info": {
   "codemirror_mode": {
    "name": "ipython",
    "version": 3
   },
   "file_extension": ".py",
   "mimetype": "text/x-python",
   "name": "python",
   "nbconvert_exporter": "python",
   "pygments_lexer": "ipython3",
   "version": "3.10.5"
  }
 },
 "nbformat": 4,
 "nbformat_minor": 5
}

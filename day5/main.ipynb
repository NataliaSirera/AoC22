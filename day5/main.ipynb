{
 "cells": [
  {
   "cell_type": "markdown",
   "id": "d55fdfbf-31da-44e3-9e16-34774b1d3eca",
   "metadata": {},
   "source": [
    "# --- Day 5: Supply Stacks ---"
   ]
  },
  {
   "cell_type": "code",
   "execution_count": 1,
   "id": "08642d1c-a1c6-4016-aa56-3381b43f981d",
   "metadata": {},
   "outputs": [],
   "source": [
    "from collections import namedtuple"
   ]
  },
  {
   "cell_type": "code",
   "execution_count": 2,
   "id": "8f92fdf2-4829-411c-b254-1d8bff7dd1b0",
   "metadata": {},
   "outputs": [],
   "source": [
    "Movement = namedtuple('Movement', ['amount', 'origin', 'end'])"
   ]
  },
  {
   "cell_type": "code",
   "execution_count": 3,
   "id": "e8520d7f-2e58-48bf-90d5-d9c5e5758b3e",
   "metadata": {},
   "outputs": [],
   "source": [
    "def read_file(filename):\n",
    "    \"\"\"\n",
    "    Read the input file which contains the stacks and a list of movements \n",
    "    in the following format:\n",
    "        [D]    \n",
    "    [N] [C]    \n",
    "    [Z] [M] [P]\n",
    "     1   2   3 \n",
    "\n",
    "    move 1 from 2 to 1\n",
    "    move 3 from 1 to 3\n",
    "    move 2 from 2 to 1\n",
    "    move 1 from 1 to 2\n",
    "    \"\"\"\n",
    "    stacks = []\n",
    "    movements = []\n",
    "    num_stacks = 0\n",
    "    with open(filename) as fh:\n",
    "        for line in fh:\n",
    "            if line.startswith('move'):\n",
    "                _, amount, _, origin, _, end  = line.rstrip('\\n').split(' ')\n",
    "                movement = Movement(int(amount), origin, end)\n",
    "                movements.append(movement)\n",
    "            elif '[' in line:\n",
    "                if stacks == []:\n",
    "                    num_stacks = len(line) // 4\n",
    "                    stacks = [list() for i in range(num_stacks)]\n",
    "                for num_stack in range(num_stacks):\n",
    "                    crate_characters = line[num_stack*4: num_stack*4+4]\n",
    "                    crate_label = ''\n",
    "                    if crate_characters.startswith('['):\n",
    "                        crate_label = crate_characters[1]\n",
    "                    stacks[num_stack].append(crate_label)\n",
    "            elif line != '\\n':\n",
    "                labels = [label for label in line.rstrip('\\n').split(' ') if label != '']\n",
    "                stacks = {label: [crate for crate in stacks[i][::-1] if crate != ''] \n",
    "                          for i, label in enumerate(labels)}\n",
    "                \n",
    "    return stacks, movements"
   ]
  },
  {
   "cell_type": "code",
   "execution_count": 4,
   "id": "6c085a42-9d18-4490-90bb-3a4d8c2cdad0",
   "metadata": {},
   "outputs": [],
   "source": [
    "def do_rearrangement(stacks, movements):\n",
    "    \"\"\"\n",
    "    In each step of the rearrangement procedure, a quantity of crates is moved \n",
    "    from one stack to a different stack.\n",
    "    Crates are moved one at a time, so the first crate to be moved ends up \n",
    "    below the second crate that is moved.\n",
    "    \"\"\"\n",
    "    for movement in movements:\n",
    "        for num_crate in range(movement.amount):\n",
    "            crate = stacks[movement.origin].pop()\n",
    "            stacks[movement.end].append(crate)\n",
    "    return stacks"
   ]
  },
  {
   "cell_type": "code",
   "execution_count": 5,
   "id": "d0b8a0d7-671e-41ba-a3d7-9f03204a252c",
   "metadata": {},
   "outputs": [],
   "source": [
    "def get_top_stacks(stacks):\n",
    "    \"\"\"\n",
    "    Get the crates at the top of each stack\n",
    "    \"\"\"\n",
    "    top_stacks = [stack[-1] for stack in stacks.values()]\n",
    "    return top_stacks"
   ]
  },
  {
   "cell_type": "code",
   "execution_count": 6,
   "id": "19d2dcb1-a47b-4641-9db5-3e0fc31257b0",
   "metadata": {},
   "outputs": [],
   "source": [
    "def get_top_stacks_from_file(filename):\n",
    "    \"\"\"\n",
    "    Get the crates at the top of each stack\n",
    "    after applying the rearrangement of one crate at a time\n",
    "    specified in the movement list and stack of a file\n",
    "    \"\"\"\n",
    "    stacks, movements = read_file(filename)\n",
    "    stacks = do_rearrangement(stacks, movements)\n",
    "    top_stacks = get_top_stacks(stacks)\n",
    "    return ''.join(top_stacks)"
   ]
  },
  {
   "cell_type": "code",
   "execution_count": 7,
   "id": "321ac007-911d-4c8f-890b-dea5599da9f4",
   "metadata": {},
   "outputs": [],
   "source": [
    "stacks, movements = read_file('test.txt')\n",
    "assert stacks == {'1': ['Z', 'N'], '2': ['M', 'C', 'D'], '3': ['P']}\n",
    "assert movements == [Movement(amount=1, origin='2', end='1'),\n",
    "                     Movement(amount=3, origin='1', end='3'),\n",
    "                     Movement(amount=2, origin='2', end='1'),\n",
    "                     Movement(amount=1, origin='1', end='2')]\n",
    "\n",
    "stacks = do_rearrangement(stacks, movements)\n",
    "assert stacks == {'1': ['C'], '2': ['M'], '3': ['P', 'D', 'N', 'Z']}\n",
    "\n",
    "top_stacks = get_top_stacks_from_file('test.txt')\n",
    "assert top_stacks == 'CMZ'"
   ]
  },
  {
   "cell_type": "code",
   "execution_count": 8,
   "id": "becab5a7-498e-42b3-a32a-eff665450e0c",
   "metadata": {},
   "outputs": [],
   "source": [
    "top_stacks = get_top_stacks_from_file('input.txt')"
   ]
  },
  {
   "cell_type": "code",
   "execution_count": 9,
   "id": "dec14b75-901f-46c2-a4e0-e45a1895a33d",
   "metadata": {},
   "outputs": [
    {
     "data": {
      "text/plain": [
       "'QPJPLMNNR'"
      ]
     },
     "execution_count": 9,
     "metadata": {},
     "output_type": "execute_result"
    }
   ],
   "source": [
    "top_stacks"
   ]
  },
  {
   "cell_type": "markdown",
   "id": "8ff13ac2-8f23-4800-b331-305d80fbfb7a",
   "metadata": {},
   "source": [
    "# --- Part Two ---"
   ]
  },
  {
   "cell_type": "code",
   "execution_count": 10,
   "id": "6793f586-3e30-4eb1-8dc6-1cc1496c305f",
   "metadata": {},
   "outputs": [],
   "source": [
    "def do_rearrangement2(stacks, movements):\n",
    "    \"\"\"\n",
    "    In each step of the rearrangement procedure, a quantity of crates is moved at once\n",
    "    from one stack to a different stack.\n",
    "    \"\"\"\n",
    "    for movement in movements:\n",
    "        crates = stacks[movement.origin][-movement.amount:]\n",
    "        length_stack = len(stacks[movement.origin])\n",
    "        stacks[movement.origin] = stacks[movement.origin][:length_stack - movement.amount]\n",
    "        stacks[movement.end].extend(crates)\n",
    "    return stacks"
   ]
  },
  {
   "cell_type": "code",
   "execution_count": 11,
   "id": "3bc6c84d-e7f0-45e0-abfb-8a6a7347cf33",
   "metadata": {},
   "outputs": [],
   "source": [
    "def get_top_stacks_from_file2(filename):\n",
    "    \"\"\"\n",
    "    Get the crates at the top of each stack\n",
    "    after applying the rearrangement of crates at once \n",
    "    specified in the movement list and stack of a file\n",
    "    \"\"\"\n",
    "    stacks, movements = read_file(filename)\n",
    "    stacks = do_rearrangement2(stacks, movements)\n",
    "    top_stacks = get_top_stacks(stacks)\n",
    "    return ''.join(top_stacks)"
   ]
  },
  {
   "cell_type": "code",
   "execution_count": 12,
   "id": "9694171d-979a-480e-8e2a-14c691ef3d7a",
   "metadata": {},
   "outputs": [],
   "source": [
    "stacks, movements = read_file('test.txt')\n",
    "assert stacks == {'1': ['Z', 'N'], '2': ['M', 'C', 'D'], '3': ['P']}\n",
    "assert movements == [Movement(amount=1, origin='2', end='1'),\n",
    "                     Movement(amount=3, origin='1', end='3'),\n",
    "                     Movement(amount=2, origin='2', end='1'),\n",
    "                     Movement(amount=1, origin='1', end='2')]\n",
    "\n",
    "stacks = do_rearrangement2(stacks, movements)\n",
    "assert stacks == {'1': ['M'], '2': ['C'], '3': ['P', 'Z', 'N', 'D']}\n",
    "\n",
    "top_stacks = get_top_stacks_from_file2('test.txt')\n",
    "assert top_stacks == 'MCD'"
   ]
  },
  {
   "cell_type": "code",
   "execution_count": 13,
   "id": "0f3bb977-1a5e-45c2-996a-e212293418a9",
   "metadata": {},
   "outputs": [],
   "source": [
    "top_stacks = get_top_stacks_from_file2('input.txt')"
   ]
  },
  {
   "cell_type": "code",
   "execution_count": 14,
   "id": "e5892bf4-9b94-4913-87e5-fc64f1917b54",
   "metadata": {},
   "outputs": [
    {
     "data": {
      "text/plain": [
       "'BQDNWJPVJ'"
      ]
     },
     "execution_count": 14,
     "metadata": {},
     "output_type": "execute_result"
    }
   ],
   "source": [
    "top_stacks"
   ]
  },
  {
   "cell_type": "code",
   "execution_count": null,
   "id": "f4483b02-4b93-47d6-9daf-68ffcd610f88",
   "metadata": {},
   "outputs": [],
   "source": []
  }
 ],
 "metadata": {
  "kernelspec": {
   "display_name": "Python 3 (ipykernel)",
   "language": "python",
   "name": "python3"
  },
  "language_info": {
   "codemirror_mode": {
    "name": "ipython",
    "version": 3
   },
   "file_extension": ".py",
   "mimetype": "text/x-python",
   "name": "python",
   "nbconvert_exporter": "python",
   "pygments_lexer": "ipython3",
   "version": "3.10.5"
  }
 },
 "nbformat": 4,
 "nbformat_minor": 5
}

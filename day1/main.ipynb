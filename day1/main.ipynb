{
 "cells": [
  {
   "cell_type": "markdown",
   "id": "7bbfc09d-cb2c-4cf4-aa97-ebd2fbc79c70",
   "metadata": {},
   "source": [
    "# --- Day 1: Calorie Counting ---"
   ]
  },
  {
   "cell_type": "code",
   "execution_count": 1,
   "id": "91e059b3-e8a8-4faf-a935-d28343739a94",
   "metadata": {},
   "outputs": [],
   "source": [
    "test = \"\"\"1000\n",
    "2000\n",
    "3000\n",
    "\n",
    "4000\n",
    "\n",
    "5000\n",
    "6000\n",
    "\n",
    "7000\n",
    "8000\n",
    "9000\n",
    "\n",
    "10000\"\"\".split(\"\\n\")"
   ]
  },
  {
   "cell_type": "code",
   "execution_count": 3,
   "id": "ede423de-8efa-4b75-81d5-b8fc48f48eab",
   "metadata": {},
   "outputs": [],
   "source": [
    "def get_calories_per_elf(text):\n",
    "    \"\"\"\n",
    "    The Elves take turns writing down the number of Calories\n",
    "    that they've brought with them, one item per line.\n",
    "    Each Elf separates their own inventory from the\n",
    "    previous Elf's inventory (if any) by a blank line.\n",
    "    \"\"\"\n",
    "    calories_elves = [[]]\n",
    "    for line in text:\n",
    "        if line == \"\":\n",
    "            calories_elves.append([])\n",
    "        else:\n",
    "            calories_elves[-1].append(int(line.rstrip(\"\\n\")))\n",
    "    totalcalories_elves = [sum(elf) for elf in calories_elves]\n",
    "    return totalcalories_elves"
   ]
  },
  {
   "cell_type": "code",
   "execution_count": 4,
   "id": "7145c6de-a123-495e-8728-b695b9236b58",
   "metadata": {},
   "outputs": [],
   "source": [
    "def get_most_calories(text):\n",
    "    \"\"\"\n",
    "    Elves need to know which Elf is carrying the most Calories.\n",
    "    \"\"\"\n",
    "    totalcalories_elves = get_calories_per_elf(text)\n",
    "    return max(totalcalories_elves)"
   ]
  },
  {
   "cell_type": "code",
   "execution_count": 5,
   "id": "75b78462-40d4-47ee-bacc-e460f96d1b71",
   "metadata": {},
   "outputs": [],
   "source": [
    "assert get_most_calories(test) == 24000"
   ]
  },
  {
   "cell_type": "code",
   "execution_count": 6,
   "id": "2a04b289-10ed-4bd9-aa8c-a4e260cd36c2",
   "metadata": {},
   "outputs": [],
   "source": [
    "with open(\"input.txt\") as fh:\n",
    "    text = fh.read().split(\"\\n\")"
   ]
  },
  {
   "cell_type": "code",
   "execution_count": 7,
   "id": "3247ae33-87c6-487b-9e93-e945504967d8",
   "metadata": {},
   "outputs": [
    {
     "data": {
      "text/plain": [
       "68923"
      ]
     },
     "execution_count": 7,
     "metadata": {},
     "output_type": "execute_result"
    }
   ],
   "source": [
    "get_most_calories(text)"
   ]
  },
  {
   "cell_type": "markdown",
   "id": "be6ab560-2f6a-4c40-be1c-dba53b6915dd",
   "metadata": {},
   "source": [
    "# --- Part Two ---"
   ]
  },
  {
   "cell_type": "code",
   "execution_count": 8,
   "id": "a2f5629f-f15f-487b-aef7-98b4827ea90e",
   "metadata": {},
   "outputs": [],
   "source": [
    "def get_most_calories2(text):\n",
    "    \"\"\"\n",
    "    The Elves would instead like to know the total Calories\n",
    "    carried by the top three Elves carrying the most Calories.\n",
    "    \"\"\"\n",
    "    totalcalories_elves = get_calories_per_elve(text)\n",
    "    return sum(sorted(totalcalories_elves)[-3:])"
   ]
  },
  {
   "cell_type": "code",
   "execution_count": 9,
   "id": "81db7d25-75d2-4280-bbc6-cdec63060da7",
   "metadata": {},
   "outputs": [],
   "source": [
    "assert get_most_calories2(test) == 45000"
   ]
  },
  {
   "cell_type": "code",
   "execution_count": 10,
   "id": "be6db29c-8191-4ece-838e-ac56cf029557",
   "metadata": {},
   "outputs": [
    {
     "data": {
      "text/plain": [
       "200044"
      ]
     },
     "execution_count": 10,
     "metadata": {},
     "output_type": "execute_result"
    }
   ],
   "source": [
    "get_most_calories2(text)"
   ]
  },
  {
   "cell_type": "code",
   "execution_count": null,
   "id": "0476d783-3ec5-4bf3-b48f-da47e450a530",
   "metadata": {},
   "outputs": [],
   "source": []
  }
 ],
 "metadata": {
  "kernelspec": {
   "display_name": "Python 3 (ipykernel)",
   "language": "python",
   "name": "python3"
  },
  "language_info": {
   "codemirror_mode": {
    "name": "ipython",
    "version": 3
   },
   "file_extension": ".py",
   "mimetype": "text/x-python",
   "name": "python",
   "nbconvert_exporter": "python",
   "pygments_lexer": "ipython3",
   "version": "3.10.5"
  }
 },
 "nbformat": 4,
 "nbformat_minor": 5
}

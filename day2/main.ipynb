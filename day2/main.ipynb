{
 "cells": [
  {
   "cell_type": "markdown",
   "id": "51c8f7e4-e3c9-48dc-a2c1-46744878347a",
   "metadata": {},
   "source": [
    "# --- Day 2: Rock Paper Scissors ---"
   ]
  },
  {
   "cell_type": "code",
   "execution_count": 1,
   "id": "a41e8f5f-3412-4b99-9744-0b75b72eb4a6",
   "metadata": {},
   "outputs": [],
   "source": [
    "import pandas as pd"
   ]
  },
  {
   "cell_type": "code",
   "execution_count": 2,
   "id": "d94e5ea6-f5ca-48f0-a163-5ace53c7f726",
   "metadata": {},
   "outputs": [],
   "source": [
    "def get_myshape_points(myshape):\n",
    "    \"\"\"\n",
    "    The score for the shape you selected:\n",
    "    1 for Rock, 2 for Paper, and 3 for Scissors\n",
    "    \"\"\"\n",
    "    myshape2points = {\"X\": 1, \"Y\": 2, \"Z\": 3}\n",
    "    return myshape2points[myshape]"
   ]
  },
  {
   "cell_type": "code",
   "execution_count": 3,
   "id": "a4bf4cf6-a07b-4e9e-9a94-81c371fe4523",
   "metadata": {},
   "outputs": [],
   "source": [
    "def get_round_points(row):\n",
    "    \"\"\"\n",
    "    The score for the outcome of the round is:\n",
    "    0 if you lost, 3 if the round was a draw, and 6 if you won.\n",
    "\n",
    "    The winner for a round is selected: Rock defeats Scissors,\n",
    "    Scissors defeats Paper, and Paper defeats Rock.\n",
    "    If both players choose the same shape,\n",
    "    the round instead ends in a draw.\n",
    "\n",
    "    The first column is what your opponent is going to play:\n",
    "    A for Rock, B for Paper, and C for Scissors.\n",
    "    The second column must be what you should play in response:\n",
    "    X for Rock, Y for Paper, and Z for Scissors.\n",
    "    \"\"\"\n",
    "    round2points = {\n",
    "        \"AX\": 3, \"AY\": 6, \"AZ\": 0,\n",
    "        \"BX\": 0, \"BY\": 3, \"BZ\": 6,\n",
    "        \"CX\": 6, \"CY\": 0, \"CZ\": 3,\n",
    "    }\n",
    "    return round2points[row.other + row.me]"
   ]
  },
  {
   "cell_type": "code",
   "execution_count": 4,
   "id": "683ec2bb-be1e-4b1a-83bb-f51183688856",
   "metadata": {},
   "outputs": [],
   "source": [
    "def get_total_points(filename):\n",
    "    \"\"\"\n",
    "    Your total score is the sum of your scores for each round.\n",
    "    The score for a single round is\n",
    "    the score for the shape you selected\n",
    "    plus the score for the outcome of the round.\n",
    "    \"\"\"\n",
    "    df = pd.read_csv(filename, names=[\"other\", \"me\"], sep=\" \")\n",
    "    df[\"shape_points\"] = df.me.apply(get_myshape_points)\n",
    "    df[\"round_points\"] = df.apply(get_round_points, axis=1)\n",
    "    df[\"total_points\"] = df.shape_points + df.round_points\n",
    "    return df, df.total_points.sum()"
   ]
  },
  {
   "cell_type": "code",
   "execution_count": 5,
   "id": "b844476d-cf8f-4810-9af8-1facdf5b49f3",
   "metadata": {},
   "outputs": [],
   "source": [
    "test, total = get_total_points(\"test.txt\")"
   ]
  },
  {
   "cell_type": "code",
   "execution_count": 6,
   "id": "f4fb02d0-c8aa-41d4-a5a2-5dc97fb58942",
   "metadata": {},
   "outputs": [],
   "source": [
    "assert test.total_points.tolist() == [8, 1, 6]\n",
    "assert total == 15"
   ]
  },
  {
   "cell_type": "code",
   "execution_count": 7,
   "id": "1b83664c-f3ad-4b3d-b114-96a2fb0ab8da",
   "metadata": {},
   "outputs": [
    {
     "data": {
      "text/plain": [
       "12740"
      ]
     },
     "execution_count": 7,
     "metadata": {},
     "output_type": "execute_result"
    }
   ],
   "source": [
    "db, total = get_total_points(\"input.txt\")\n",
    "total"
   ]
  },
  {
   "cell_type": "markdown",
   "id": "f52be8eb-a5af-4410-aef3-5a2cecd74c7f",
   "metadata": {},
   "source": [
    "# --- Part Two ---"
   ]
  },
  {
   "cell_type": "code",
   "execution_count": 8,
   "id": "19a57e19-4242-42a3-9495-52f8c7caf030",
   "metadata": {},
   "outputs": [],
   "source": [
    "def get_myshape_points2(row):\n",
    "    \"\"\"\n",
    "    The first column is what your opponent is going to play:\n",
    "    A for Rock, B for Paper, and C for Scissors.\n",
    "    The second column says how the round needs to end:\n",
    "    X means you need to lose,\n",
    "    Y means you need to end the round in a draw, and\n",
    "    Z means you need to win.\n",
    "\n",
    "    My shapes are X for Rock, Y for Paper, and Z for Scissors.\n",
    "    The scores of shapes are: 1 for Rock, 2 for Paper, and 3 for Scissors\n",
    "    \"\"\"\n",
    "    rock = \"X\"\n",
    "    paper = \"Y\"\n",
    "    scissors = \"Z\"\n",
    "    otherround2points = {\n",
    "        \"AX\": scissors, \"AY\": rock, \"AZ\": paper,\n",
    "        \"BX\": rock, \"BY\": paper, \"BZ\": scissors,\n",
    "        \"CX\": paper, \"CY\": scissors, \"CZ\": rock,\n",
    "    }\n",
    "    myshape = otherround2points[row.other + row.match]\n",
    "    return get_myshape_points(myshape)"
   ]
  },
  {
   "cell_type": "code",
   "execution_count": 9,
   "id": "a836d85d-78aa-4eda-876d-2034664275b1",
   "metadata": {},
   "outputs": [],
   "source": [
    "def get_round_points2(match):\n",
    "    \"\"\"\n",
    "    The score for the outcome of the round is:\n",
    "    0 if you lost, 3 if the round was a draw, and 6 if you won.\n",
    "    X means you need to lose,\n",
    "    Y means you need to end the round in a draw, and\n",
    "    Z means you need to win.\n",
    "    \"\"\"\n",
    "    round2points = {\"X\": 0, \"Y\": 3, \"Z\": 6}\n",
    "    return round2points[match]"
   ]
  },
  {
   "cell_type": "code",
   "execution_count": 10,
   "id": "27dd730a-3fa9-4e56-827a-e38d5f36d3b9",
   "metadata": {},
   "outputs": [],
   "source": [
    "def get_total_points2(filename):\n",
    "    \"\"\"\n",
    "    Your total score is the sum of your scores for each round.\n",
    "    The score for a single round is\n",
    "    the score for the shape you selected\n",
    "    plus the score for the outcome of the round.\n",
    "    \"\"\"\n",
    "    df = pd.read_csv(filename, names=[\"other\", \"match\"], sep=\" \")\n",
    "    df[\"shape_points\"] = df.apply(get_myshape_points2, axis=1)\n",
    "    df[\"round_points\"] = df.match.apply(get_round_points2)\n",
    "    df[\"total_points\"] = df.shape_points + df.round_points\n",
    "    return df, df.total_points.sum()"
   ]
  },
  {
   "cell_type": "code",
   "execution_count": 11,
   "id": "9c513ae8-51aa-47d5-af0f-38289cf0eab2",
   "metadata": {},
   "outputs": [],
   "source": [
    "test, total = get_total_points2(\"test.txt\")"
   ]
  },
  {
   "cell_type": "code",
   "execution_count": 12,
   "id": "4ff296f4-c76c-4ab3-9680-1aa8a9013060",
   "metadata": {},
   "outputs": [],
   "source": [
    "assert test.total_points.tolist() == [4, 1, 7]\n",
    "assert total == 12"
   ]
  },
  {
   "cell_type": "code",
   "execution_count": 13,
   "id": "9997c7ce-e755-4508-8ccc-62769b25b2b5",
   "metadata": {},
   "outputs": [
    {
     "data": {
      "text/plain": [
       "11980"
      ]
     },
     "execution_count": 13,
     "metadata": {},
     "output_type": "execute_result"
    }
   ],
   "source": [
    "db, total = get_total_points2(\"input.txt\")\n",
    "total"
   ]
  },
  {
   "cell_type": "code",
   "execution_count": null,
   "id": "f2c13ea3-ddeb-45a5-ba59-ce1431d35af2",
   "metadata": {},
   "outputs": [],
   "source": []
  }
 ],
 "metadata": {
  "kernelspec": {
   "display_name": "Python 3 (ipykernel)",
   "language": "python",
   "name": "python3"
  },
  "language_info": {
   "codemirror_mode": {
    "name": "ipython",
    "version": 3
   },
   "file_extension": ".py",
   "mimetype": "text/x-python",
   "name": "python",
   "nbconvert_exporter": "python",
   "pygments_lexer": "ipython3",
   "version": "3.10.5"
  }
 },
 "nbformat": 4,
 "nbformat_minor": 5
}

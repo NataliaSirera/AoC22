{
 "cells": [
  {
   "cell_type": "markdown",
   "id": "b380ae58-198b-4bc4-97de-5e760b949418",
   "metadata": {},
   "source": [
    "# --- Day 4: Camp Cleanup ---"
   ]
  },
  {
   "cell_type": "code",
   "execution_count": 1,
   "id": "544dd19e-6383-4fed-b614-37b2cc0aca7f",
   "metadata": {},
   "outputs": [],
   "source": [
    "def get_assignments(filename):\n",
    "    \"\"\"\n",
    "    The Elves pair up and make a big list of the section assignments for each pair\n",
    "    \"\"\"\n",
    "    assignments = []\n",
    "    with open(filename) as fh:\n",
    "        for line in fh:\n",
    "            assignment_pair_elves = line.rstrip('\\n').split(',')\n",
    "            assignments.append([list(map(int, assignment_pair_elves[i].split('-'))) for i in range(2)])\n",
    "    return assignments"
   ]
  },
  {
   "cell_type": "code",
   "execution_count": 2,
   "id": "b95e044c-8487-4756-9749-239dd6de0304",
   "metadata": {},
   "outputs": [],
   "source": [
    "def get_pair_fully_overlap_assignments(assignments):\n",
    "    \"\"\"\n",
    "    Get fully overlap assignments by sorting the elf assignments and\n",
    "    compare if the assignment with the minimum ID also contains the maximum ID\n",
    "    \"\"\"\n",
    "    overlap_assignments = []\n",
    "    for assignment1, assignment2 in assignments:\n",
    "        # Label as assignment1, the assignment with the minimum start ID\n",
    "        if assignment1[0] > assignment2[0]:\n",
    "            assignment1, assignment2 = assignment2, assignment1\n",
    "        # In case of equal start ID, label as assignment1 the assignment with the maximum finish ID\n",
    "        if assignment1[0] == assignment2[0] and assignment2[1] > assignment1[1]:\n",
    "                assignment1, assignment2 = assignment2, assignment1\n",
    "        # Check if assignment1 which contains the minimum start ID, also contains the maximum finish ID\n",
    "        is_overlapping = assignment1[1] >= assignment2[1]\n",
    "        overlap_assignments.append(is_overlapping)\n",
    "    return overlap_assignments"
   ]
  },
  {
   "cell_type": "code",
   "execution_count": 3,
   "id": "f6c5f639-aaa0-4e07-be29-5bdaaf108709",
   "metadata": {},
   "outputs": [],
   "source": [
    "def get_total_fully_overlap_assignments(filename):\n",
    "    \"\"\"\n",
    "    Find how many assignment pairs does one range fully contain the other\n",
    "    \"\"\"\n",
    "    assignments = get_assignments(filename)\n",
    "    overlap_assignments = get_pair_fully_overlap_assignments(assignments)\n",
    "    total_overlap_assignments = sum(overlap_assignments)\n",
    "    return total_overlap_assignments"
   ]
  },
  {
   "cell_type": "code",
   "execution_count": 4,
   "id": "99f0b3f1-304d-4601-aba5-9ae37e228872",
   "metadata": {},
   "outputs": [],
   "source": [
    "total_overlap_assignments = get_total_fully_overlap_assignments(\"test.txt\")"
   ]
  },
  {
   "cell_type": "code",
   "execution_count": 5,
   "id": "ab6b2253-c821-4fbc-ba93-2f8ee6d2cff8",
   "metadata": {},
   "outputs": [],
   "source": [
    "assert total_overlap_assignments == 2"
   ]
  },
  {
   "cell_type": "code",
   "execution_count": 6,
   "id": "41fdffe3-6cc2-4fd9-8cea-4ab3cc31a927",
   "metadata": {},
   "outputs": [
    {
     "data": {
      "text/plain": [
       "584"
      ]
     },
     "execution_count": 6,
     "metadata": {},
     "output_type": "execute_result"
    }
   ],
   "source": [
    "total_overlap_assignments = get_total_fully_overlap_assignments(\"input.txt\")\n",
    "total_overlap_assignments"
   ]
  },
  {
   "cell_type": "markdown",
   "id": "c1cdc5d7-89b1-487c-935d-82cb4e361dc6",
   "metadata": {},
   "source": [
    "# --- Part Two ---"
   ]
  },
  {
   "cell_type": "code",
   "execution_count": 7,
   "id": "74ef45e1-3693-4096-a647-642696896ca3",
   "metadata": {},
   "outputs": [],
   "source": [
    "def get_overlap_assignments(assignments):\n",
    "    overlap_assignments = []\n",
    "    for assignment1, assignment2 in assignments:\n",
    "        assignment1 = set(range(assignment1[0], assignment1[1]+1))\n",
    "        assignment2 = set(range(assignment2[0], assignment2[1]+1))\n",
    "        is_overlapping = len(assignment1.intersection(assignment2)) > 0\n",
    "        overlap_assignments.append(is_overlapping)\n",
    "    return overlap_assignments"
   ]
  },
  {
   "cell_type": "code",
   "execution_count": 8,
   "id": "3776aabf-9294-4336-84eb-760c0d90d1e6",
   "metadata": {},
   "outputs": [],
   "source": [
    "def get_total_overlap_assignments(filename):\n",
    "    \"\"\"\n",
    "    Find the number of pairs that overlap at all\n",
    "    \"\"\"\n",
    "    assignments = get_assignments(filename)\n",
    "    overlap_assignments = get_overlap_assignments(assignments)\n",
    "    total_overlap_assignments = sum(overlap_assignments)\n",
    "    return total_overlap_assignments"
   ]
  },
  {
   "cell_type": "code",
   "execution_count": 9,
   "id": "4afc3669-9031-4079-8e60-82f4933ccafc",
   "metadata": {},
   "outputs": [],
   "source": [
    "total_overlap_assignments = get_total_overlap_assignments('test.txt')"
   ]
  },
  {
   "cell_type": "code",
   "execution_count": 10,
   "id": "c8cbc240-213e-48fc-892f-238e7725ecf6",
   "metadata": {},
   "outputs": [],
   "source": [
    "assert total_overlap_assignments == 4"
   ]
  },
  {
   "cell_type": "code",
   "execution_count": 11,
   "id": "3c8b9df3-ee23-40da-b293-bf6f5950e5bc",
   "metadata": {},
   "outputs": [],
   "source": [
    "total_overlap_assignments = get_total_overlap_assignments('input.txt')"
   ]
  },
  {
   "cell_type": "code",
   "execution_count": 12,
   "id": "b08cc3f3-e9c5-4c0e-8ab8-9c6bfd29ddcd",
   "metadata": {},
   "outputs": [
    {
     "data": {
      "text/plain": [
       "933"
      ]
     },
     "execution_count": 12,
     "metadata": {},
     "output_type": "execute_result"
    }
   ],
   "source": [
    "total_overlap_assignments"
   ]
  },
  {
   "cell_type": "code",
   "execution_count": null,
   "id": "89914219-818a-4bfb-8ed5-e18127962999",
   "metadata": {},
   "outputs": [],
   "source": []
  }
 ],
 "metadata": {
  "kernelspec": {
   "display_name": "Python 3 (ipykernel)",
   "language": "python",
   "name": "python3"
  },
  "language_info": {
   "codemirror_mode": {
    "name": "ipython",
    "version": 3
   },
   "file_extension": ".py",
   "mimetype": "text/x-python",
   "name": "python",
   "nbconvert_exporter": "python",
   "pygments_lexer": "ipython3",
   "version": "3.10.5"
  }
 },
 "nbformat": 4,
 "nbformat_minor": 5
}
